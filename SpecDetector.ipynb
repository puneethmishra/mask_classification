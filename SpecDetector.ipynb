{
 "cells": [
  {
   "cell_type": "code",
   "execution_count": 3,
   "metadata": {},
   "outputs": [],
   "source": [
    "import warnings\n",
    "warnings.filterwarnings('ignore')\n",
    "import pickle"
   ]
  },
  {
   "cell_type": "code",
   "execution_count": 4,
   "metadata": {},
   "outputs": [],
   "source": [
    "from tensorflow.keras.preprocessing.image import ImageDataGenerator\n",
    "from tensorflow.keras.preprocessing import image\n",
    "from tensorflow.keras.optimizers import RMSprop\n",
    "import matplotlib.pyplot as plt\n",
    "import tensorflow as tf\n",
    "import numpy as np\n",
    "import cv2\n",
    "import os\n",
    "from PIL import Image"
   ]
  },
  {
   "cell_type": "code",
   "execution_count": 5,
   "metadata": {},
   "outputs": [],
   "source": [
    "img=image.load_img(\"AR_FaceDB/data/m-001-1.bmp\")"
   ]
  },
  {
   "cell_type": "code",
   "execution_count": 7,
   "metadata": {},
   "outputs": [],
   "source": [
    "train=ImageDataGenerator(rescale=1/255)\n",
    "test=ImageDataGenerator(rescale=1/255)"
   ]
  },
  {
   "cell_type": "code",
   "execution_count": 8,
   "metadata": {},
   "outputs": [
    {
     "name": "stdout",
     "output_type": "stream",
     "text": [
      "Found 706 images belonging to 2 classes.\n",
      "Found 334 images belonging to 2 classes.\n"
     ]
    }
   ],
   "source": [
    "train_dataset=train.flow_from_directory('AR_FaceDB/train/',\n",
    "                                       target_size=(200,200),\n",
    "                                        batch_size=3,\n",
    "                                        class_mode='binary')\n",
    "validation_dataset=train.flow_from_directory('AR_FaceDB/validation/',\n",
    "                                       target_size=(200,200),\n",
    "                                        batch_size=3,\n",
    "                                        class_mode='binary')"
   ]
  },
  {
   "cell_type": "code",
   "execution_count": 9,
   "metadata": {},
   "outputs": [
    {
     "data": {
      "text/plain": [
       "{'nonSpecs_train': 0, 'specs_train': 1}"
      ]
     },
     "execution_count": 9,
     "metadata": {},
     "output_type": "execute_result"
    }
   ],
   "source": [
    "train_dataset.class_indices"
   ]
  },
  {
   "cell_type": "code",
   "execution_count": 24,
   "metadata": {},
   "outputs": [],
   "source": [
    "model=tf.keras.models.Sequential([tf.keras.layers.Conv2D(32,(3,3),activation='relu',input_shape=(200,200,3)),\n",
    "                                  tf.keras.layers.MaxPool2D(2,2),\n",
    "                                  #\n",
    "                                  tf.keras.layers.Conv2D(64,(3,3),activation='relu'),\n",
    "                                  tf.keras.layers.MaxPool2D(2,2),\n",
    "                                  #\n",
    "                                  tf.keras.layers.Conv2D(128,(3,3),activation='relu'),\n",
    "                                  tf.keras.layers.MaxPool2D(2,2),\n",
    "                                  #\n",
    "                                  tf.keras.layers.Conv2D(256,(3,3),activation='relu'),\n",
    "                                  tf.keras.layers.MaxPool2D(2,2),\n",
    "                                  #\n",
    "                                  tf.keras.layers.Conv2D(512,(3,3),activation='relu'),\n",
    "                                  tf.keras.layers.MaxPool2D(2,2),\n",
    "                                  #\n",
    "                                  tf.keras.layers.Conv2D(1024,(3,3),activation='relu'),\n",
    "                                  tf.keras.layers.MaxPool2D(2,2),\n",
    "                                  #\n",
    "                                  tf.keras.layers.Flatten(),\n",
    "                                  #\n",
    "                                  tf.keras.layers.Dense(512,activation='relu'),\n",
    "                                  #\n",
    "                                  tf.keras.layers.Dense(1,activation='sigmoid')\n",
    "                                 ])\n"
   ]
  },
  {
   "cell_type": "code",
   "execution_count": 25,
   "metadata": {},
   "outputs": [
    {
     "name": "stdout",
     "output_type": "stream",
     "text": [
      "_________________________________________________________________\n",
      "Layer (type)                 Output Shape              Param #   \n",
      "=================================================================\n",
      "conv2d_49 (Conv2D)           (None, 198, 198, 32)      896       \n",
      "_________________________________________________________________\n",
      "max_pooling2d_49 (MaxPooling (None, 99, 99, 32)        0         \n",
      "_________________________________________________________________\n",
      "conv2d_50 (Conv2D)           (None, 97, 97, 64)        18496     \n",
      "_________________________________________________________________\n",
      "max_pooling2d_50 (MaxPooling (None, 48, 48, 64)        0         \n",
      "_________________________________________________________________\n",
      "conv2d_51 (Conv2D)           (None, 46, 46, 128)       73856     \n",
      "_________________________________________________________________\n",
      "max_pooling2d_51 (MaxPooling (None, 23, 23, 128)       0         \n",
      "_________________________________________________________________\n",
      "conv2d_52 (Conv2D)           (None, 21, 21, 256)       295168    \n",
      "_________________________________________________________________\n",
      "max_pooling2d_52 (MaxPooling (None, 10, 10, 256)       0         \n",
      "_________________________________________________________________\n",
      "conv2d_53 (Conv2D)           (None, 8, 8, 512)         1180160   \n",
      "_________________________________________________________________\n",
      "max_pooling2d_53 (MaxPooling (None, 4, 4, 512)         0         \n",
      "_________________________________________________________________\n",
      "conv2d_54 (Conv2D)           (None, 2, 2, 1024)        4719616   \n",
      "_________________________________________________________________\n",
      "max_pooling2d_54 (MaxPooling (None, 1, 1, 1024)        0         \n",
      "_________________________________________________________________\n",
      "flatten_8 (Flatten)          (None, 1024)              0         \n",
      "_________________________________________________________________\n",
      "dense_16 (Dense)             (None, 512)               524800    \n",
      "_________________________________________________________________\n",
      "dense_17 (Dense)             (None, 1)                 513       \n",
      "=================================================================\n",
      "Total params: 6,813,505\n",
      "Trainable params: 6,813,505\n",
      "Non-trainable params: 0\n",
      "_________________________________________________________________\n"
     ]
    }
   ],
   "source": [
    "model.summary()"
   ]
  },
  {
   "cell_type": "code",
   "execution_count": 27,
   "metadata": {},
   "outputs": [],
   "source": [
    "model.compile(loss='binary_crossentropy',\n",
    "              optimizer=RMSprop(lr=0.001),\n",
    "              metrics=['accuracy'])"
   ]
  },
  {
   "cell_type": "code",
   "execution_count": 28,
   "metadata": {},
   "outputs": [
    {
     "name": "stdout",
     "output_type": "stream",
     "text": [
      "Epoch 1/10\n",
      "112/112 [==============================] - 8s 75ms/step - loss: 7.1171 - acc: 0.5569\n",
      "236/236 [==============================] - 70s 296ms/step - loss: 6.9382 - acc: 0.5652 - val_loss: 7.1171 - val_acc: 0.5569\n",
      "Epoch 2/10\n",
      "112/112 [==============================] - 8s 72ms/step - loss: 7.0222 - acc: 0.5569\n",
      "236/236 [==============================] - 72s 304ms/step - loss: 6.9130 - acc: 0.5652 - val_loss: 7.0222 - val_acc: 0.5569\n",
      "Epoch 3/10\n",
      "112/112 [==============================] - 8s 73ms/step - loss: 7.1171 - acc: 0.5569\n",
      "236/236 [==============================] - 71s 301ms/step - loss: 6.9130 - acc: 0.5652 - val_loss: 7.1171 - val_acc: 0.5569\n",
      "Epoch 4/10\n",
      "112/112 [==============================] - 8s 74ms/step - loss: 7.0222 - acc: 0.5569\n",
      "236/236 [==============================] - 71s 303ms/step - loss: 6.9130 - acc: 0.5652 - val_loss: 7.0222 - val_acc: 0.5569\n",
      "Epoch 5/10\n",
      "112/112 [==============================] - 8s 74ms/step - loss: 7.0222 - acc: 0.5569\n",
      "236/236 [==============================] - 71s 301ms/step - loss: 6.9130 - acc: 0.5652 - val_loss: 7.0222 - val_acc: 0.5569\n",
      "Epoch 6/10\n",
      "112/112 [==============================] - 8s 72ms/step - loss: 7.0222 - acc: 0.5569\n",
      "236/236 [==============================] - 71s 302ms/step - loss: 6.9130 - acc: 0.5652 - val_loss: 7.0222 - val_acc: 0.5569\n",
      "Epoch 7/10\n",
      "112/112 [==============================] - 8s 75ms/step - loss: 7.1171 - acc: 0.5569\n",
      "236/236 [==============================] - 71s 303ms/step - loss: 6.9130 - acc: 0.5652 - val_loss: 7.1171 - val_acc: 0.5569\n",
      "Epoch 8/10\n",
      "112/112 [==============================] - 8s 73ms/step - loss: 7.1171 - acc: 0.5569\n",
      "236/236 [==============================] - 71s 303ms/step - loss: 6.9130 - acc: 0.5652 - val_loss: 7.1171 - val_acc: 0.5569\n",
      "Epoch 9/10\n",
      "112/112 [==============================] - 8s 73ms/step - loss: 7.1171 - acc: 0.5569\n",
      "236/236 [==============================] - 71s 301ms/step - loss: 6.9130 - acc: 0.5652 - val_loss: 7.1171 - val_acc: 0.5569\n",
      "Epoch 10/10\n",
      "112/112 [==============================] - 8s 74ms/step - loss: 7.1171 - acc: 0.5569\n",
      "236/236 [==============================] - 71s 301ms/step - loss: 6.9130 - acc: 0.5652 - val_loss: 7.1171 - val_acc: 0.5569\n"
     ]
    }
   ],
   "source": [
    "model_fit=model.fit(\n",
    "    train_dataset,steps_per_epoch=10,epochs=10,validation_data=validation_dataset)"
   ]
  },
  {
   "cell_type": "code",
   "execution_count": null,
   "metadata": {},
   "outputs": [],
   "source": []
  }
 ],
 "metadata": {
  "kernelspec": {
   "display_name": "Python 3",
   "language": "python",
   "name": "python3"
  },
  "language_info": {
   "codemirror_mode": {
    "name": "ipython",
    "version": 3
   },
   "file_extension": ".py",
   "mimetype": "text/x-python",
   "name": "python",
   "nbconvert_exporter": "python",
   "pygments_lexer": "ipython3",
   "version": "3.6.10"
  }
 },
 "nbformat": 4,
 "nbformat_minor": 4
}
